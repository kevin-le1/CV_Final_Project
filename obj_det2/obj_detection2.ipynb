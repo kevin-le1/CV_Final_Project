{
 "cells": [
  {
   "cell_type": "code",
   "execution_count": 3,
   "metadata": {},
   "outputs": [
    {
     "name": "stdout",
     "output_type": "stream",
     "text": [
      "Requirement already satisfied: modal in /Users/kevin/miniconda3/lib/python3.11/site-packages (0.62.116)\n",
      "Requirement already satisfied: aiohttp in /Users/kevin/miniconda3/lib/python3.11/site-packages (from modal) (3.9.3)\n",
      "Requirement already satisfied: aiostream~=0.5.2 in /Users/kevin/miniconda3/lib/python3.11/site-packages (from modal) (0.5.2)\n",
      "Requirement already satisfied: certifi in /Users/kevin/miniconda3/lib/python3.11/site-packages (from modal) (2024.2.2)\n",
      "Requirement already satisfied: click>=8.1.0 in /Users/kevin/miniconda3/lib/python3.11/site-packages (from modal) (8.1.7)\n",
      "Requirement already satisfied: fastapi in /Users/kevin/miniconda3/lib/python3.11/site-packages (from modal) (0.110.2)\n",
      "Requirement already satisfied: grpclib==0.4.7 in /Users/kevin/miniconda3/lib/python3.11/site-packages (from modal) (0.4.7)\n",
      "Requirement already satisfied: protobuf!=4.24.0,<6.0,>=3.19 in /Users/kevin/miniconda3/lib/python3.11/site-packages (from modal) (4.25.3)\n",
      "Requirement already satisfied: rich>=12.0.0 in /Users/kevin/miniconda3/lib/python3.11/site-packages (from modal) (13.7.1)\n",
      "Requirement already satisfied: synchronicity~=0.6.6 in /Users/kevin/miniconda3/lib/python3.11/site-packages (from modal) (0.6.7)\n",
      "Requirement already satisfied: toml in /Users/kevin/miniconda3/lib/python3.11/site-packages (from modal) (0.10.2)\n",
      "Requirement already satisfied: typer>=0.9 in /Users/kevin/miniconda3/lib/python3.11/site-packages (from modal) (0.12.3)\n",
      "Requirement already satisfied: types-certifi in /Users/kevin/miniconda3/lib/python3.11/site-packages (from modal) (2021.10.8.3)\n",
      "Requirement already satisfied: types-toml in /Users/kevin/miniconda3/lib/python3.11/site-packages (from modal) (0.10.8.20240310)\n",
      "Requirement already satisfied: watchfiles in /Users/kevin/miniconda3/lib/python3.11/site-packages (from modal) (0.21.0)\n",
      "Requirement already satisfied: typing-extensions~=4.6 in /Users/kevin/miniconda3/lib/python3.11/site-packages (from modal) (4.9.0)\n",
      "Requirement already satisfied: h2<5,>=3.1.0 in /Users/kevin/miniconda3/lib/python3.11/site-packages (from grpclib==0.4.7->modal) (4.1.0)\n",
      "Requirement already satisfied: multidict in /Users/kevin/miniconda3/lib/python3.11/site-packages (from grpclib==0.4.7->modal) (6.0.5)\n",
      "Requirement already satisfied: markdown-it-py>=2.2.0 in /Users/kevin/miniconda3/lib/python3.11/site-packages (from rich>=12.0.0->modal) (3.0.0)\n",
      "Requirement already satisfied: pygments<3.0.0,>=2.13.0 in /Users/kevin/miniconda3/lib/python3.11/site-packages (from rich>=12.0.0->modal) (2.17.2)\n",
      "Requirement already satisfied: sigtools==4.0.1 in /Users/kevin/miniconda3/lib/python3.11/site-packages (from synchronicity~=0.6.6->modal) (4.0.1)\n",
      "Requirement already satisfied: attrs in /Users/kevin/miniconda3/lib/python3.11/site-packages (from sigtools==4.0.1->synchronicity~=0.6.6->modal) (23.2.0)\n",
      "Requirement already satisfied: shellingham>=1.3.0 in /Users/kevin/miniconda3/lib/python3.11/site-packages (from typer>=0.9->modal) (1.5.4)\n",
      "Requirement already satisfied: aiosignal>=1.1.2 in /Users/kevin/miniconda3/lib/python3.11/site-packages (from aiohttp->modal) (1.3.1)\n",
      "Requirement already satisfied: frozenlist>=1.1.1 in /Users/kevin/miniconda3/lib/python3.11/site-packages (from aiohttp->modal) (1.4.1)\n",
      "Requirement already satisfied: yarl<2.0,>=1.0 in /Users/kevin/miniconda3/lib/python3.11/site-packages (from aiohttp->modal) (1.9.4)\n",
      "Requirement already satisfied: pydantic!=1.8,!=1.8.1,!=2.0.0,!=2.0.1,!=2.1.0,<3.0.0,>=1.7.4 in /Users/kevin/miniconda3/lib/python3.11/site-packages (from fastapi->modal) (2.7.1)\n",
      "Requirement already satisfied: starlette<0.38.0,>=0.37.2 in /Users/kevin/miniconda3/lib/python3.11/site-packages (from fastapi->modal) (0.37.2)\n",
      "Requirement already satisfied: anyio>=3.0.0 in /Users/kevin/miniconda3/lib/python3.11/site-packages (from watchfiles->modal) (4.2.0)\n",
      "Requirement already satisfied: idna>=2.8 in /Users/kevin/miniconda3/lib/python3.11/site-packages (from anyio>=3.0.0->watchfiles->modal) (3.4)\n",
      "Requirement already satisfied: sniffio>=1.1 in /Users/kevin/miniconda3/lib/python3.11/site-packages (from anyio>=3.0.0->watchfiles->modal) (1.3.0)\n",
      "Requirement already satisfied: hyperframe<7,>=6.0 in /Users/kevin/miniconda3/lib/python3.11/site-packages (from h2<5,>=3.1.0->grpclib==0.4.7->modal) (6.0.1)\n",
      "Requirement already satisfied: hpack<5,>=4.0 in /Users/kevin/miniconda3/lib/python3.11/site-packages (from h2<5,>=3.1.0->grpclib==0.4.7->modal) (4.0.0)\n",
      "Requirement already satisfied: mdurl~=0.1 in /Users/kevin/miniconda3/lib/python3.11/site-packages (from markdown-it-py>=2.2.0->rich>=12.0.0->modal) (0.1.2)\n",
      "Requirement already satisfied: annotated-types>=0.4.0 in /Users/kevin/miniconda3/lib/python3.11/site-packages (from pydantic!=1.8,!=1.8.1,!=2.0.0,!=2.0.1,!=2.1.0,<3.0.0,>=1.7.4->fastapi->modal) (0.6.0)\n",
      "Requirement already satisfied: pydantic-core==2.18.2 in /Users/kevin/miniconda3/lib/python3.11/site-packages (from pydantic!=1.8,!=1.8.1,!=2.0.0,!=2.0.1,!=2.1.0,<3.0.0,>=1.7.4->fastapi->modal) (2.18.2)\n",
      "Requirement already satisfied: opencv-python==4.8.0.74 in /Users/kevin/miniconda3/lib/python3.11/site-packages (4.8.0.74)\n",
      "Requirement already satisfied: numpy>=1.21.2 in /Users/kevin/miniconda3/lib/python3.11/site-packages (from opencv-python==4.8.0.74) (1.26.0)\n",
      "Requirement already satisfied: ultralytics in /Users/kevin/miniconda3/lib/python3.11/site-packages (8.2.3)\n",
      "Requirement already satisfied: matplotlib>=3.3.0 in /Users/kevin/miniconda3/lib/python3.11/site-packages (from ultralytics) (3.8.2)\n",
      "Requirement already satisfied: opencv-python>=4.6.0 in /Users/kevin/miniconda3/lib/python3.11/site-packages (from ultralytics) (4.8.0.74)\n",
      "Requirement already satisfied: pillow>=7.1.2 in /Users/kevin/miniconda3/lib/python3.11/site-packages (from ultralytics) (10.0.1)\n",
      "Requirement already satisfied: pyyaml>=5.3.1 in /Users/kevin/miniconda3/lib/python3.11/site-packages (from ultralytics) (6.0.1)\n",
      "Requirement already satisfied: requests>=2.23.0 in /Users/kevin/miniconda3/lib/python3.11/site-packages (from ultralytics) (2.31.0)\n",
      "Requirement already satisfied: scipy>=1.4.1 in /Users/kevin/miniconda3/lib/python3.11/site-packages (from ultralytics) (1.11.3)\n",
      "Requirement already satisfied: torch>=1.8.0 in /Users/kevin/miniconda3/lib/python3.11/site-packages (from ultralytics) (2.2.2)\n",
      "Requirement already satisfied: torchvision>=0.9.0 in /Users/kevin/miniconda3/lib/python3.11/site-packages (from ultralytics) (0.17.2)\n",
      "Requirement already satisfied: tqdm>=4.64.0 in /Users/kevin/miniconda3/lib/python3.11/site-packages (from ultralytics) (4.65.0)\n",
      "Requirement already satisfied: psutil in /Users/kevin/miniconda3/lib/python3.11/site-packages (from ultralytics) (5.9.8)\n",
      "Requirement already satisfied: py-cpuinfo in /Users/kevin/miniconda3/lib/python3.11/site-packages (from ultralytics) (9.0.0)\n",
      "Requirement already satisfied: thop>=0.1.1 in /Users/kevin/miniconda3/lib/python3.11/site-packages (from ultralytics) (0.1.1.post2209072238)\n",
      "Requirement already satisfied: pandas>=1.1.4 in /Users/kevin/miniconda3/lib/python3.11/site-packages (from ultralytics) (2.2.1)\n",
      "Requirement already satisfied: seaborn>=0.11.0 in /Users/kevin/miniconda3/lib/python3.11/site-packages (from ultralytics) (0.13.2)\n",
      "Requirement already satisfied: contourpy>=1.0.1 in /Users/kevin/miniconda3/lib/python3.11/site-packages (from matplotlib>=3.3.0->ultralytics) (1.2.0)\n",
      "Requirement already satisfied: cycler>=0.10 in /Users/kevin/miniconda3/lib/python3.11/site-packages (from matplotlib>=3.3.0->ultralytics) (0.12.1)\n",
      "Requirement already satisfied: fonttools>=4.22.0 in /Users/kevin/miniconda3/lib/python3.11/site-packages (from matplotlib>=3.3.0->ultralytics) (4.47.2)\n",
      "Requirement already satisfied: kiwisolver>=1.3.1 in /Users/kevin/miniconda3/lib/python3.11/site-packages (from matplotlib>=3.3.0->ultralytics) (1.4.5)\n",
      "Requirement already satisfied: numpy<2,>=1.21 in /Users/kevin/miniconda3/lib/python3.11/site-packages (from matplotlib>=3.3.0->ultralytics) (1.26.0)\n",
      "Requirement already satisfied: packaging>=20.0 in /Users/kevin/miniconda3/lib/python3.11/site-packages (from matplotlib>=3.3.0->ultralytics) (23.2)\n",
      "Requirement already satisfied: pyparsing>=2.3.1 in /Users/kevin/miniconda3/lib/python3.11/site-packages (from matplotlib>=3.3.0->ultralytics) (3.1.1)\n",
      "Requirement already satisfied: python-dateutil>=2.7 in /Users/kevin/miniconda3/lib/python3.11/site-packages (from matplotlib>=3.3.0->ultralytics) (2.8.2)\n",
      "Requirement already satisfied: pytz>=2020.1 in /Users/kevin/miniconda3/lib/python3.11/site-packages (from pandas>=1.1.4->ultralytics) (2023.4)\n",
      "Requirement already satisfied: tzdata>=2022.7 in /Users/kevin/miniconda3/lib/python3.11/site-packages (from pandas>=1.1.4->ultralytics) (2024.1)\n",
      "Requirement already satisfied: charset-normalizer<4,>=2 in /Users/kevin/miniconda3/lib/python3.11/site-packages (from requests>=2.23.0->ultralytics) (2.0.4)\n",
      "Requirement already satisfied: idna<4,>=2.5 in /Users/kevin/miniconda3/lib/python3.11/site-packages (from requests>=2.23.0->ultralytics) (3.4)\n",
      "Requirement already satisfied: urllib3<3,>=1.21.1 in /Users/kevin/miniconda3/lib/python3.11/site-packages (from requests>=2.23.0->ultralytics) (1.26.18)\n",
      "Requirement already satisfied: certifi>=2017.4.17 in /Users/kevin/miniconda3/lib/python3.11/site-packages (from requests>=2.23.0->ultralytics) (2024.2.2)\n",
      "Requirement already satisfied: filelock in /Users/kevin/miniconda3/lib/python3.11/site-packages (from torch>=1.8.0->ultralytics) (3.13.1)\n",
      "Requirement already satisfied: typing-extensions>=4.8.0 in /Users/kevin/miniconda3/lib/python3.11/site-packages (from torch>=1.8.0->ultralytics) (4.9.0)\n",
      "Requirement already satisfied: sympy in /Users/kevin/miniconda3/lib/python3.11/site-packages (from torch>=1.8.0->ultralytics) (1.12)\n",
      "Requirement already satisfied: networkx in /Users/kevin/miniconda3/lib/python3.11/site-packages (from torch>=1.8.0->ultralytics) (3.1)\n",
      "Requirement already satisfied: jinja2 in /Users/kevin/miniconda3/lib/python3.11/site-packages (from torch>=1.8.0->ultralytics) (3.1.3)\n",
      "Requirement already satisfied: fsspec in /Users/kevin/miniconda3/lib/python3.11/site-packages (from torch>=1.8.0->ultralytics) (2023.9.2)\n",
      "Requirement already satisfied: six>=1.5 in /Users/kevin/miniconda3/lib/python3.11/site-packages (from python-dateutil>=2.7->matplotlib>=3.3.0->ultralytics) (1.16.0)\n",
      "Requirement already satisfied: MarkupSafe>=2.0 in /Users/kevin/miniconda3/lib/python3.11/site-packages (from jinja2->torch>=1.8.0->ultralytics) (2.1.4)\n",
      "Requirement already satisfied: mpmath>=0.19 in /Users/kevin/miniconda3/lib/python3.11/site-packages (from sympy->torch>=1.8.0->ultralytics) (1.3.0)\n"
     ]
    }
   ],
   "source": [
    "!pip3 install modal\n",
    "!pip3 install opencv-python==4.8.0.74\n",
    "!pip3 install ultralytics"
   ]
  },
  {
   "cell_type": "code",
   "execution_count": 20,
   "metadata": {},
   "outputs": [],
   "source": [
    "from ultralytics import YOLO # using YOLO!\n",
    "import modal\n",
    "\n",
    "model = YOLO('yolov8m.pt') # yolov8 architecture\n",
    "\n",
    "app = modal.App()\n",
    "\n",
    "@app.function(gpu=\"A100\")\n",
    "def test():\n",
    "    model.train(\n",
    "        data = '/Users/kevin/Desktop/cv/final_project/obj_detection/plastic.yaml', # this plastic.yaml is the the config file for the object detection \n",
    "        epochs = 1, # relatively low for now just for testing\n",
    "        imgsz = (1280, 720), # width, height\n",
    "        batch = 4,\n",
    "        optimizer = 'Adam',\n",
    "        lr0 = 1e-3,\n",
    "    )"
   ]
  },
  {
   "cell_type": "code",
   "execution_count": 21,
   "metadata": {},
   "outputs": [],
   "source": [
    "@app.local_entrypoint()\n",
    "def main():\n",
    "    test.remote()"
   ]
  }
 ],
 "metadata": {
  "kernelspec": {
   "display_name": "base",
   "language": "python",
   "name": "python3"
  },
  "language_info": {
   "codemirror_mode": {
    "name": "ipython",
    "version": 3
   },
   "file_extension": ".py",
   "mimetype": "text/x-python",
   "name": "python",
   "nbconvert_exporter": "python",
   "pygments_lexer": "ipython3",
   "version": "3.11.9 (main, Apr 19 2024, 11:44:45) [Clang 14.0.6 ]"
  },
  "orig_nbformat": 4,
  "vscode": {
   "interpreter": {
    "hash": "b5307e98954c1652c3564abd66d0211a7c00ac63b2731b8c6069a552ec199cec"
   }
  }
 },
 "nbformat": 4,
 "nbformat_minor": 2
}
