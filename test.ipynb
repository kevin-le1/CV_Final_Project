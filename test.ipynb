{
 "cells": [
  {
   "cell_type": "code",
   "execution_count": 7,
   "metadata": {},
   "outputs": [
    {
     "ename": "KeyboardInterrupt",
     "evalue": "",
     "output_type": "error",
     "traceback": [
      "\u001b[0;31m---------------------------------------------------------------------------\u001b[0m",
      "\u001b[0;31mKeyboardInterrupt\u001b[0m                         Traceback (most recent call last)",
      "Cell \u001b[0;32mIn[7], line 4\u001b[0m\n\u001b[1;32m      1\u001b[0m \u001b[39mfrom\u001b[39;00m \u001b[39mdatasets\u001b[39;00m \u001b[39mimport\u001b[39;00m load_from_disk\n\u001b[1;32m      2\u001b[0m \u001b[39mimport\u001b[39;00m \u001b[39mcv2\u001b[39;00m\n\u001b[0;32m----> 4\u001b[0m saved_dataset \u001b[39m=\u001b[39m load_from_disk(\u001b[39m\"\u001b[39;49m\u001b[39msaved_dataset\u001b[39;49m\u001b[39m\"\u001b[39;49m)\n\u001b[1;32m      6\u001b[0m test \u001b[39m=\u001b[39m saved_dataset[\u001b[39m'\u001b[39m\u001b[39mtest\u001b[39m\u001b[39m'\u001b[39m]\n\u001b[1;32m      8\u001b[0m \u001b[39mfor\u001b[39;00m i, example \u001b[39min\u001b[39;00m \u001b[39menumerate\u001b[39m(test):\n",
      "File \u001b[0;32m~/miniconda3/lib/python3.11/site-packages/datasets/load.py:1874\u001b[0m, in \u001b[0;36mload_from_disk\u001b[0;34m(dataset_path, fs, keep_in_memory, storage_options)\u001b[0m\n\u001b[1;32m   1872\u001b[0m     \u001b[39mreturn\u001b[39;00m Dataset\u001b[39m.\u001b[39mload_from_disk(dataset_path, keep_in_memory\u001b[39m=\u001b[39mkeep_in_memory, storage_options\u001b[39m=\u001b[39mstorage_options)\n\u001b[1;32m   1873\u001b[0m \u001b[39melif\u001b[39;00m fs\u001b[39m.\u001b[39misfile(path_join(dest_dataset_path, config\u001b[39m.\u001b[39mDATASETDICT_JSON_FILENAME)):\n\u001b[0;32m-> 1874\u001b[0m     \u001b[39mreturn\u001b[39;00m DatasetDict\u001b[39m.\u001b[39;49mload_from_disk(dataset_path, keep_in_memory\u001b[39m=\u001b[39;49mkeep_in_memory, storage_options\u001b[39m=\u001b[39;49mstorage_options)\n\u001b[1;32m   1875\u001b[0m \u001b[39melse\u001b[39;00m:\n\u001b[1;32m   1876\u001b[0m     \u001b[39mraise\u001b[39;00m \u001b[39mFileNotFoundError\u001b[39;00m(\n\u001b[1;32m   1877\u001b[0m         \u001b[39mf\u001b[39m\u001b[39m\"\u001b[39m\u001b[39mDirectory \u001b[39m\u001b[39m{\u001b[39;00mdataset_path\u001b[39m}\u001b[39;00m\u001b[39m is neither a dataset directory nor a dataset dict directory.\u001b[39m\u001b[39m\"\u001b[39m\n\u001b[1;32m   1878\u001b[0m     )\n",
      "File \u001b[0;32m~/miniconda3/lib/python3.11/site-packages/datasets/dataset_dict.py:1309\u001b[0m, in \u001b[0;36mDatasetDict.load_from_disk\u001b[0;34m(dataset_dict_path, fs, keep_in_memory, storage_options)\u001b[0m\n\u001b[1;32m   1303\u001b[0m \u001b[39mfor\u001b[39;00m k \u001b[39min\u001b[39;00m splits:\n\u001b[1;32m   1304\u001b[0m     dataset_dict_split_path \u001b[39m=\u001b[39m (\n\u001b[1;32m   1305\u001b[0m         dataset_dict_path\u001b[39m.\u001b[39msplit(\u001b[39m\"\u001b[39m\u001b[39m://\u001b[39m\u001b[39m\"\u001b[39m)[\u001b[39m0\u001b[39m] \u001b[39m+\u001b[39m \u001b[39m\"\u001b[39m\u001b[39m://\u001b[39m\u001b[39m\"\u001b[39m \u001b[39m+\u001b[39m Path(dest_dataset_dict_path, k)\u001b[39m.\u001b[39mas_posix()\n\u001b[1;32m   1306\u001b[0m         \u001b[39mif\u001b[39;00m is_remote_filesystem(fs)\n\u001b[1;32m   1307\u001b[0m         \u001b[39melse\u001b[39;00m Path(dest_dataset_dict_path, k)\u001b[39m.\u001b[39mas_posix()\n\u001b[1;32m   1308\u001b[0m     )\n\u001b[0;32m-> 1309\u001b[0m     dataset_dict[k] \u001b[39m=\u001b[39m Dataset\u001b[39m.\u001b[39;49mload_from_disk(\n\u001b[1;32m   1310\u001b[0m         dataset_dict_split_path, keep_in_memory\u001b[39m=\u001b[39;49mkeep_in_memory, storage_options\u001b[39m=\u001b[39;49mstorage_options\n\u001b[1;32m   1311\u001b[0m     )\n\u001b[1;32m   1312\u001b[0m \u001b[39mreturn\u001b[39;00m dataset_dict\n",
      "File \u001b[0;32m~/miniconda3/lib/python3.11/site-packages/datasets/arrow_dataset.py:1568\u001b[0m, in \u001b[0;36mDataset.load_from_disk\u001b[0;34m(dataset_path, fs, keep_in_memory, storage_options)\u001b[0m\n\u001b[1;32m   1566\u001b[0m keep_in_memory \u001b[39m=\u001b[39m keep_in_memory \u001b[39mif\u001b[39;00m keep_in_memory \u001b[39mis\u001b[39;00m \u001b[39mnot\u001b[39;00m \u001b[39mNone\u001b[39;00m \u001b[39melse\u001b[39;00m is_small_dataset(dataset_size)\n\u001b[1;32m   1567\u001b[0m table_cls \u001b[39m=\u001b[39m InMemoryTable \u001b[39mif\u001b[39;00m keep_in_memory \u001b[39melse\u001b[39;00m MemoryMappedTable\n\u001b[0;32m-> 1568\u001b[0m arrow_table \u001b[39m=\u001b[39m concat_tables(\n\u001b[1;32m   1569\u001b[0m     table_cls\u001b[39m.\u001b[39;49mfrom_file(Path(dataset_path, data_file[\u001b[39m\"\u001b[39;49m\u001b[39mfilename\u001b[39;49m\u001b[39m\"\u001b[39;49m])\u001b[39m.\u001b[39;49mas_posix())\n\u001b[1;32m   1570\u001b[0m     \u001b[39mfor\u001b[39;49;00m data_file \u001b[39min\u001b[39;49;00m state[\u001b[39m\"\u001b[39;49m\u001b[39m_data_files\u001b[39;49m\u001b[39m\"\u001b[39;49m]\n\u001b[1;32m   1571\u001b[0m )\n\u001b[1;32m   1573\u001b[0m split \u001b[39m=\u001b[39m state[\u001b[39m\"\u001b[39m\u001b[39m_split\u001b[39m\u001b[39m\"\u001b[39m]\n\u001b[1;32m   1574\u001b[0m split \u001b[39m=\u001b[39m Split(split) \u001b[39mif\u001b[39;00m split \u001b[39mis\u001b[39;00m \u001b[39mnot\u001b[39;00m \u001b[39mNone\u001b[39;00m \u001b[39melse\u001b[39;00m split\n",
      "File \u001b[0;32m~/miniconda3/lib/python3.11/site-packages/datasets/table.py:1805\u001b[0m, in \u001b[0;36mconcat_tables\u001b[0;34m(tables, axis)\u001b[0m\n\u001b[1;32m   1788\u001b[0m \u001b[39mdef\u001b[39;00m \u001b[39mconcat_tables\u001b[39m(tables: List[Table], axis: \u001b[39mint\u001b[39m \u001b[39m=\u001b[39m \u001b[39m0\u001b[39m) \u001b[39m-\u001b[39m\u001b[39m>\u001b[39m Table:\n\u001b[1;32m   1789\u001b[0m \u001b[39m    \u001b[39m\u001b[39m\"\"\"\u001b[39;00m\n\u001b[1;32m   1790\u001b[0m \u001b[39m    Concatenate tables.\u001b[39;00m\n\u001b[1;32m   1791\u001b[0m \n\u001b[0;32m   (...)\u001b[0m\n\u001b[1;32m   1803\u001b[0m \u001b[39m            Otherwise if there's only one table, it is returned as is.\u001b[39;00m\n\u001b[1;32m   1804\u001b[0m \u001b[39m    \"\"\"\u001b[39;00m\n\u001b[0;32m-> 1805\u001b[0m     tables \u001b[39m=\u001b[39m \u001b[39mlist\u001b[39m(tables)\n\u001b[1;32m   1806\u001b[0m     \u001b[39mif\u001b[39;00m \u001b[39mlen\u001b[39m(tables) \u001b[39m==\u001b[39m \u001b[39m1\u001b[39m:\n\u001b[1;32m   1807\u001b[0m         \u001b[39mreturn\u001b[39;00m tables[\u001b[39m0\u001b[39m]\n",
      "File \u001b[0;32m~/miniconda3/lib/python3.11/site-packages/datasets/arrow_dataset.py:1569\u001b[0m, in \u001b[0;36m<genexpr>\u001b[0;34m(.0)\u001b[0m\n\u001b[1;32m   1566\u001b[0m keep_in_memory \u001b[39m=\u001b[39m keep_in_memory \u001b[39mif\u001b[39;00m keep_in_memory \u001b[39mis\u001b[39;00m \u001b[39mnot\u001b[39;00m \u001b[39mNone\u001b[39;00m \u001b[39melse\u001b[39;00m is_small_dataset(dataset_size)\n\u001b[1;32m   1567\u001b[0m table_cls \u001b[39m=\u001b[39m InMemoryTable \u001b[39mif\u001b[39;00m keep_in_memory \u001b[39melse\u001b[39;00m MemoryMappedTable\n\u001b[1;32m   1568\u001b[0m arrow_table \u001b[39m=\u001b[39m concat_tables(\n\u001b[0;32m-> 1569\u001b[0m     table_cls\u001b[39m.\u001b[39;49mfrom_file(Path(dataset_path, data_file[\u001b[39m\"\u001b[39;49m\u001b[39mfilename\u001b[39;49m\u001b[39m\"\u001b[39;49m])\u001b[39m.\u001b[39;49mas_posix())\n\u001b[1;32m   1570\u001b[0m     \u001b[39mfor\u001b[39;00m data_file \u001b[39min\u001b[39;00m state[\u001b[39m\"\u001b[39m\u001b[39m_data_files\u001b[39m\u001b[39m\"\u001b[39m]\n\u001b[1;32m   1571\u001b[0m )\n\u001b[1;32m   1573\u001b[0m split \u001b[39m=\u001b[39m state[\u001b[39m\"\u001b[39m\u001b[39m_split\u001b[39m\u001b[39m\"\u001b[39m]\n\u001b[1;32m   1574\u001b[0m split \u001b[39m=\u001b[39m Split(split) \u001b[39mif\u001b[39;00m split \u001b[39mis\u001b[39;00m \u001b[39mnot\u001b[39;00m \u001b[39mNone\u001b[39;00m \u001b[39melse\u001b[39;00m split\n",
      "File \u001b[0;32m~/miniconda3/lib/python3.11/site-packages/datasets/table.py:1065\u001b[0m, in \u001b[0;36mMemoryMappedTable.from_file\u001b[0;34m(cls, filename, replays)\u001b[0m\n\u001b[1;32m   1063\u001b[0m \u001b[39m@classmethod\u001b[39m\n\u001b[1;32m   1064\u001b[0m \u001b[39mdef\u001b[39;00m \u001b[39mfrom_file\u001b[39m(\u001b[39mcls\u001b[39m, filename: \u001b[39mstr\u001b[39m, replays\u001b[39m=\u001b[39m\u001b[39mNone\u001b[39;00m):\n\u001b[0;32m-> 1065\u001b[0m     table \u001b[39m=\u001b[39m _memory_mapped_arrow_table_from_file(filename)\n\u001b[1;32m   1066\u001b[0m     table \u001b[39m=\u001b[39m \u001b[39mcls\u001b[39m\u001b[39m.\u001b[39m_apply_replays(table, replays)\n\u001b[1;32m   1067\u001b[0m     \u001b[39mreturn\u001b[39;00m \u001b[39mcls\u001b[39m(table, filename, replays)\n",
      "File \u001b[0;32m~/miniconda3/lib/python3.11/site-packages/datasets/table.py:52\u001b[0m, in \u001b[0;36m_memory_mapped_arrow_table_from_file\u001b[0;34m(filename)\u001b[0m\n\u001b[1;32m     50\u001b[0m memory_mapped_stream \u001b[39m=\u001b[39m pa\u001b[39m.\u001b[39mmemory_map(filename)\n\u001b[1;32m     51\u001b[0m opened_stream \u001b[39m=\u001b[39m pa\u001b[39m.\u001b[39mipc\u001b[39m.\u001b[39mopen_stream(memory_mapped_stream)\n\u001b[0;32m---> 52\u001b[0m pa_table \u001b[39m=\u001b[39m opened_stream\u001b[39m.\u001b[39;49mread_all()\n\u001b[1;32m     53\u001b[0m \u001b[39mreturn\u001b[39;00m pa_table\n",
      "\u001b[0;31mKeyboardInterrupt\u001b[0m: "
     ]
    }
   ],
   "source": [
    "from datasets import load_from_disk\n",
    "import cv2\n",
    "\n",
    "saved_dataset = load_from_disk(\"saved_dataset\")\n",
    "\n",
    "test = saved_dataset['test']\n",
    "\n",
    "for i, example in enumerate(test):\n",
    "    cv2.imshow(\"%i\",example['image'])\n",
    "    cv2.waitKey(0)"
   ]
  }
 ],
 "metadata": {
  "kernelspec": {
   "display_name": "base",
   "language": "python",
   "name": "python3"
  },
  "language_info": {
   "codemirror_mode": {
    "name": "ipython",
    "version": 3
   },
   "file_extension": ".py",
   "mimetype": "text/x-python",
   "name": "python",
   "nbconvert_exporter": "python",
   "pygments_lexer": "ipython3",
   "version": "3.11.5"
  },
  "orig_nbformat": 4,
  "vscode": {
   "interpreter": {
    "hash": "b5307e98954c1652c3564abd66d0211a7c00ac63b2731b8c6069a552ec199cec"
   }
  }
 },
 "nbformat": 4,
 "nbformat_minor": 2
}
